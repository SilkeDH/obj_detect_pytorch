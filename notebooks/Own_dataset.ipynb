{
 "cells": [
  {
   "cell_type": "markdown",
   "metadata": {},
   "source": [
    "# Building an own Dataset with Pytorch"
   ]
  },
  {
   "cell_type": "code",
   "execution_count": 55,
   "metadata": {},
   "outputs": [],
   "source": [
    "import os\n",
    "import torch\n",
    "import pandas as pd\n",
    "import numpy as np\n",
    "from torch.utils.data import Dataset, DataLoader\n",
    "from torchvision import transforms, utils\n",
    "import json\n",
    "from PIL import Image"
   ]
  },
  {
   "cell_type": "markdown",
   "metadata": {},
   "source": [
    "Create the class of your dataset."
   ]
  },
  {
   "cell_type": "code",
   "execution_count": 202,
   "metadata": {},
   "outputs": [],
   "source": [
    "class COCO2017(Dataset):\n",
    "    \"\"\"COCO 2017 dataset.\"\"\"\n",
    "\n",
    "    def __init__(self, json_file, root_dir, transform=None):\n",
    "        \"\"\"\n",
    "        Args:\n",
    "            json_file (string): Path to the json file with annotations.\n",
    "            root_dir (string): Directory with all the images.\n",
    "            transform (callable, optional): Optional transform to be applied\n",
    "                on a sample.\n",
    "        \"\"\"\n",
    "        if json_file is not None:\n",
    "            with open(json_file,'r') as COCO:\n",
    "                js = json.loads(COCO.read())\n",
    "                val_categories = json.dumps(js) \n",
    "                \n",
    "        image_ids = []\n",
    "        categ_ids = []\n",
    "        #Get categories of the validation images and ids.\n",
    "        for i in range(32800):\n",
    "            image_id = json.dumps(js['annotations'][i]['image_id'])\n",
    "            miss = 12 - len(str(image_id))\n",
    "            image_unique_id = (\"0\" * miss) + str(str(image_id))\n",
    "            image_ids.append(image_unique_id)\n",
    "            categ_ids.append(json.dumps(js['annotations'][i]['category_id']))\n",
    "\n",
    "        dataset = {'ImageID': image_ids,'Categories':categ_ids}\n",
    "        dataset = pd.DataFrame.from_dict(dataset)\n",
    "        dataset = dataset.groupby('ImageID', as_index=False).agg(lambda x: x.tolist())\n",
    "        dataset\n",
    "        print(len(dataset))\n",
    "        self.landmarks_frame = dataset\n",
    "        self.root_dir = root_dir\n",
    "        self.transform = transform\n",
    "\n",
    "    def __len__(self):\n",
    "        return len(self.landmarks_frame)\n",
    "\n",
    "    def __getitem__(self, idx):\n",
    "        if torch.is_tensor(idx):\n",
    "            idx = idx.tolist()\n",
    "        img_name = os.path.join(self.root_dir,\n",
    "                                self.landmarks_frame.iloc[idx, 0] + \".jpg\")\n",
    "        image = Image.open(img_name)\n",
    "        landmarks = self.landmarks_frame.iloc[idx, 1:]\n",
    "        landmarks = np.array([landmarks])\n",
    "        sample = {'image': image, 'landmarks': landmarks}\n",
    "\n",
    "        if self.transform:\n",
    "            sample = self.transform(sample)\n",
    "\n",
    "        return sample"
   ]
  },
  {
   "cell_type": "markdown",
   "metadata": {},
   "source": [
    "Create a new object of your dataset class."
   ]
  },
  {
   "cell_type": "code",
   "execution_count": 203,
   "metadata": {},
   "outputs": [
    {
     "name": "stdout",
     "output_type": "stream",
     "text": [
      "5000\n"
     ]
    }
   ],
   "source": [
    "coco_dataset = COCO2017(json_file='../obj_detect_pytorch/dataset/stuff_val2017.json',\n",
    "                        root_dir='../obj_detect_pytorch/dataset/val2017/',\n",
    "                        transform = False)"
   ]
  },
  {
   "cell_type": "code",
   "execution_count": 210,
   "metadata": {},
   "outputs": [
    {
     "name": "stdout",
     "output_type": "stream",
     "text": [
      "0 (640, 426) [[['98' '102' '105' '118' '119' '123' '130' '132' '142' '152' '156'\n",
      "   '165' '172' '181' '183']]]\n",
      "1 (586, 640) [[['124' '183']]]\n",
      "2 (640, 483) [[['93' '128' '129' '183']]]\n"
     ]
    }
   ],
   "source": [
    "for i in range(3):\n",
    "    sample = coco_dataset[i]\n",
    "    print(i, sample['image'].size, sample['landmarks'])"
   ]
  },
  {
   "cell_type": "code",
   "execution_count": 211,
   "metadata": {},
   "outputs": [
    {
     "data": {
      "text/plain": [
       "array([[['93', '128', '129', '183']]], dtype=object)"
      ]
     },
     "execution_count": 211,
     "metadata": {},
     "output_type": "execute_result"
    }
   ],
   "source": []
  },
  {
   "cell_type": "code",
   "execution_count": null,
   "metadata": {},
   "outputs": [],
   "source": []
  },
  {
   "cell_type": "code",
   "execution_count": null,
   "metadata": {},
   "outputs": [],
   "source": []
  }
 ],
 "metadata": {
  "kernelspec": {
   "display_name": "Python 3",
   "language": "python",
   "name": "python3"
  },
  "language_info": {
   "codemirror_mode": {
    "name": "ipython",
    "version": 3
   },
   "file_extension": ".py",
   "mimetype": "text/x-python",
   "name": "python",
   "nbconvert_exporter": "python",
   "pygments_lexer": "ipython3",
   "version": "3.6.9"
  }
 },
 "nbformat": 4,
 "nbformat_minor": 4
}
